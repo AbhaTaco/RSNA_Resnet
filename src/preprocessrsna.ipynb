{
 "cells": [
  {
   "cell_type": "code",
   "execution_count": null,
   "metadata": {
    "_cell_guid": "fa1ddaa8-109c-4e65-ade9-670ba84e9ce0",
    "_uuid": "b872bf6e-8443-413f-8e23-e31163dc97a1",
    "jupyter": {
     "outputs_hidden": false
    }
   },
   "outputs": [],
   "source": [
    "import pandas as pd\n",
    "import numpy as np \n",
    "\n",
    "from sklearn.impute import SimpleImputer\n",
    "\n",
    "def preprocess(inpath):\n",
    "    train = pd.read_csv(inpath + \"/train.csv\")\n",
    "    base = inpath + \"/train_images/\"\n",
    "    \n",
    "    # Clean up\n",
    "    # dropping columns that only occur in train: density, biopsy, invasive, BIRADS, difficult_negative_case\n",
    "\n",
    "    train = train.drop(['density', 'biopsy', 'invasive', 'BIRADS', 'difficult_negative_case'], axis = 1)\n",
    "    \n",
    "    # add image paths\n",
    "    train['path'] = base + train['patient_id'].astype(str) + \"/\" + train['image_id'].astype(str) + \".dcm\"\n",
    "    \n",
    "    # imputing missing values\n",
    "    imp = SimpleImputer(missing_values=np.nan, strategy='most_frequent')\n",
    "    train = pd.DataFrame(imp.fit_transform(train), columns = train.columns)\n",
    "\n",
    "    # Rearranging data \n",
    "\n",
    "    # drop rows with view different from CC or MLO\n",
    "    train = train[(train.view == 'CC') | (train.view == 'MLO')]\n",
    "\n",
    "    # create new columns 'breast_id', 'path_CC', 'path_MLO'\n",
    "    train['breast_id'] = train['patient_id'].astype(str) + \"_\" + train['laterality'].astype(str)\n",
    "    train['path_CC'] = train.query(\"view=='CC'\")[\"path\"] # rows with view = MLO will be nan\n",
    "    train['path_MLO'] = train.query(\"view=='MLO'\")[\"path\"] # rows with view = CC will be nan\n",
    "\n",
    "    # convert laterality to one hot encoding\n",
    "    temp = pd.get_dummies(train['laterality'])\n",
    "    temp = temp.drop(['L'], axis = 1)\n",
    "    train = train.drop(['laterality'], axis = 1)\n",
    "    train['laterality'] = temp\n",
    "\n",
    "    # fill nan values in path_CC by path_CC values in rows with same breast_id \n",
    "    train['path_CC'] = train.groupby(['breast_id'])['path_CC'].bfill()\n",
    "    train['path_CC'] = train.groupby(['breast_id'])['path_CC'].ffill()\n",
    "\n",
    "    # the only column with nan values is path_MLO. The path_CC value in these rows has been copied to the row with matching breast_id. We can safely drop the rows with nan MLO values. \n",
    "    train = train.dropna()\n",
    "\n",
    "    # drop rows with information already covered by other rows\n",
    "    train = train.drop(['patient_id', 'image_id', 'view', 'path'], axis = 1)\n",
    "    train = train.reset_index()\n",
    "    train = train.drop('index',  axis = 1)\n",
    "\n",
    "    # rearranging columns\n",
    "    train = train[['breast_id', 'laterality', 'age', 'implant', 'site_id', 'machine_id', 'path_CC', 'path_MLO', 'cancer']]\n",
    "    train['cancer'] = train['cancer'].astype(float)\n",
    "\n",
    "    return train\n",
    "\n"
   ]
  }
 ],
 "metadata": {
  "kernelspec": {
   "display_name": "Python 3 (ipykernel)",
   "language": "python",
   "name": "python3"
  },
  "language_info": {
   "codemirror_mode": {
    "name": "ipython",
    "version": 3
   },
   "file_extension": ".py",
   "mimetype": "text/x-python",
   "name": "python",
   "nbconvert_exporter": "python",
   "pygments_lexer": "ipython3",
   "version": "3.9.0"
  }
 },
 "nbformat": 4,
 "nbformat_minor": 4
}
