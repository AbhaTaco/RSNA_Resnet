{
 "cells": [
  {
   "cell_type": "code",
   "execution_count": null,
   "metadata": {
    "_cell_guid": "305c9e8d-cf65-499c-a8e2-73328c40893a",
    "_uuid": "1fe9aba3-283a-420a-8e0d-7382b2b9f58a",
    "jupyter": {
     "outputs_hidden": false
    }
   },
   "outputs": [],
   "source": [
    "import os\n",
    "import numpy as np # linear algebra\n",
    "import pandas as pd # data processing, CSV file I/O (e.g. pd.read_csv)\n",
    "\n",
    "# PyTorch\n",
    "import torch\n",
    "#import torchvision\n",
    "import torch.nn as nn\n",
    "import torch.nn.functional as F\n",
    "from torch import FloatTensor, LongTensor\n",
    "\n",
    "from torchvision.models import resnet50   # resnet34\n",
    "\n",
    "\n",
    "class ResNet50Network(nn.Module):\n",
    "    def __init__(self, output_size, no_columns):\n",
    "        super().__init__()\n",
    "        self.no_columns, self.output_size = no_columns, output_size\n",
    "        \n",
    "        # Define Feature part (IMAGE)\n",
    "        self.features = resnet50(pretrained=True) # 1000 neurons out\n",
    "        # (metadata)\n",
    "        self.csv = nn.Sequential(nn.Linear(self.no_columns, 500),\n",
    "                                 nn.BatchNorm1d(500),\n",
    "                                 nn.ReLU(),\n",
    "                                 nn.Dropout(p=0.2))\n",
    "        \n",
    "        # Define Classification part\n",
    "        self.classification = nn.Linear(1000 + 500, output_size)\n",
    "        \n",
    "        \n",
    "    def forward(self, image, csvdata, prints=False):\n",
    "        if prints: print('Input Image shape:', image.shape, '\\n'+\n",
    "                         'Input csvdata shape:', csvdata.shape)\n",
    "        \n",
    "        # Image CNN\n",
    "        image = self.features(image)\n",
    "        if prints: print('Features Image shape:', image.shape)\n",
    "        \n",
    "        # CSV FNN\n",
    "        csvdata = self.csv(csvdata)\n",
    "        if prints: print('CSV Data:', csvdata.shape)\n",
    "            \n",
    "        # Concatenate layers from image with layers from csv_data\n",
    "        image_csv_data = torch.cat((image, csvdata), dim=1)\n",
    "        if prints: print('Concatenated Data:', image_csv_data.shape)\n",
    "        \n",
    "        # CLASSIF\n",
    "        out = self.classification(image_csv_data)\n",
    "        if prints: print('Out shape:', out.shape)\n",
    "        \n",
    "        return out\n",
    "\n"
   ]
  }
 ],
 "metadata": {
  "kernelspec": {
   "display_name": "Python 3 (ipykernel)",
   "language": "python",
   "name": "python3"
  },
  "language_info": {
   "codemirror_mode": {
    "name": "ipython",
    "version": 3
   },
   "file_extension": ".py",
   "mimetype": "text/x-python",
   "name": "python",
   "nbconvert_exporter": "python",
   "pygments_lexer": "ipython3",
   "version": "3.9.0"
  }
 },
 "nbformat": 4,
 "nbformat_minor": 4
}
