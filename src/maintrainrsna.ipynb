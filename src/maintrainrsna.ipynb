{
 "cells": [
  {
   "cell_type": "code",
   "execution_count": 1,
   "id": "cf75aa90",
   "metadata": {
    "execution": {
     "iopub.execute_input": "2023-04-03T22:32:23.171209Z",
     "iopub.status.busy": "2023-04-03T22:32:23.170661Z",
     "iopub.status.idle": "2023-04-03T22:32:49.367353Z",
     "shell.execute_reply": "2023-04-03T22:32:49.365399Z",
     "shell.execute_reply.started": "2023-04-03T22:32:23.171159Z"
    },
    "papermill": {
     "duration": 0.013399,
     "end_time": "2023-03-31T20:57:55.951337",
     "exception": false,
     "start_time": "2023-03-31T20:57:55.937938",
     "status": "completed"
    },
    "tags": []
   },
   "outputs": [
    {
     "name": "stdout",
     "output_type": "stream",
     "text": [
      "\u001b[33mWARNING: Running pip as the 'root' user can result in broken permissions and conflicting behaviour with the system package manager. It is recommended to use a virtual environment instead: https://pip.pypa.io/warnings/venv\u001b[0m\u001b[33m\n",
      "\u001b[0m\u001b[33mWARNING: Running pip as the 'root' user can result in broken permissions and conflicting behaviour with the system package manager. It is recommended to use a virtual environment instead: https://pip.pypa.io/warnings/venv\u001b[0m\u001b[33m\n",
      "\u001b[0m"
     ]
    }
   ],
   "source": [
    "import os\n",
    "import numpy as np \n",
    "import pandas as pd\n",
    "\n",
    "#image reading\n",
    "import pydicom # for DICOM images\n",
    "\n",
    "!pip install python-gdcm -q\n",
    "!pip install pylibjpeg -q \n",
    "\n",
    "# my utility files\n",
    "import preprocessrsna_py as pre\n",
    "import resnetrsna_py as rsmodel\n",
    "import trainrsna_py as trn\n",
    "\n",
    "# for reading yaml and storing configuration \n",
    "import argparse\n",
    "import yaml\n",
    "import sys\n",
    "\n",
    "import torch.nn as nn\n",
    "import torch.nn.functional as F\n",
    "from torch import FloatTensor, LongTensor\n",
    "from torch.utils.data import Dataset, DataLoader\n",
    "from torch.optim.lr_scheduler import ReduceLROnPlateau\n",
    "\n",
    "\n",
    "# Data Augmentation for Image Preprocessing\n",
    "from albumentations import (ToFloat, Normalize, VerticalFlip, HorizontalFlip, Compose, Resize,\n",
    "                            RandomBrightnessContrast, HueSaturationValue, Blur, GaussNoise,\n",
    "                            Rotate, RandomResizedCrop, Cutout, ShiftScaleRotate, ToGray)\n",
    "from albumentations.pytorch import ToTensorV2\n",
    "\n",
    "#from efficientnet_pytorch import EfficientNet\n",
    "from torchvision.models import resnet50   # resnet34\n",
    "\n",
    "# SKlearn\n",
    "from sklearn.model_selection import KFold, StratifiedKFold\n",
    "from sklearn.metrics import accuracy_score,  roc_auc_score, confusion_matrix"
   ]
  },
  {
   "cell_type": "code",
   "execution_count": 2,
   "id": "6be39487",
   "metadata": {
    "execution": {
     "iopub.execute_input": "2023-04-03T22:33:54.888791Z",
     "iopub.status.busy": "2023-04-03T22:33:54.888083Z",
     "iopub.status.idle": "2023-04-03T22:33:55.665862Z",
     "shell.execute_reply": "2023-04-03T22:33:55.664399Z",
     "shell.execute_reply.started": "2023-04-03T22:33:54.888742Z"
    }
   },
   "outputs": [],
   "source": [
    "inpath = \"/kaggle/input/rsna-breast-cancer-detection\"\n",
    "train = pre.preprocess(inpath)"
   ]
  },
  {
   "cell_type": "code",
   "execution_count": null,
   "id": "6522cd00",
   "metadata": {
    "execution": {
     "iopub.execute_input": "2023-04-03T22:33:59.941499Z",
     "iopub.status.busy": "2023-04-03T22:33:59.940958Z",
     "iopub.status.idle": "2023-04-03T22:38:57.569046Z",
     "shell.execute_reply": "2023-04-03T22:38:57.567728Z",
     "shell.execute_reply.started": "2023-04-03T22:33:59.941452Z"
    },
    "papermill": {
     "duration": 0.002071,
     "end_time": "2023-03-31T20:57:55.956190",
     "exception": false,
     "start_time": "2023-03-31T20:57:55.954119",
     "status": "completed"
    },
    "tags": []
   },
   "outputs": [],
   "source": [
    "#model\n",
    "output_size = 1\n",
    "no_columns = len(trn.csv_columns) # csv_columns defined in trn\n",
    "\n",
    "model1 = rsmodel.ResNet50Network(output_size=output_size, no_columns=no_columns)\n",
    "\n",
    "# data - new_df is a smaller dataframe to check that everything works. \n",
    "# Use full dataset for actual training.\n",
    "new_df = train.groupby('cancer').apply(lambda x: x.sample(n=24)).reset_index(drop = True)\n",
    "\n",
    "# configuration\n",
    "sys.argv = ['-f']\n",
    "config_path = '/kaggle/input/config1/config1.yaml'\n",
    "args = trn.set_params(config_path)\n",
    "\n",
    "#train\n",
    "trn.train_folds(args, model=model1, train_original=new_df)"
   ]
  }
 ],
 "metadata": {
  "kernelspec": {
   "display_name": "Python 3 (ipykernel)",
   "language": "python",
   "name": "python3"
  },
  "language_info": {
   "codemirror_mode": {
    "name": "ipython",
    "version": 3
   },
   "file_extension": ".py",
   "mimetype": "text/x-python",
   "name": "python",
   "nbconvert_exporter": "python",
   "pygments_lexer": "ipython3",
   "version": "3.9.0"
  },
  "papermill": {
   "default_parameters": {},
   "duration": 12.278602,
   "end_time": "2023-03-31T20:57:56.682417",
   "environment_variables": {},
   "exception": null,
   "input_path": "__notebook__.ipynb",
   "output_path": "__notebook__.ipynb",
   "parameters": {},
   "start_time": "2023-03-31T20:57:44.403815",
   "version": "2.4.0"
  }
 },
 "nbformat": 4,
 "nbformat_minor": 5
}
